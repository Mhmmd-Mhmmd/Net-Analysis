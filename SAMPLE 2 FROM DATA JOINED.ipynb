{
 "cells": [
  {
   "cell_type": "code",
   "execution_count": null,
   "id": "b5831e77",
   "metadata": {},
   "outputs": [],
   "source": [
    "# import pandas as pd\n",
    "df =pd.read_csv(\"C:/Users/Developer/Desktop/SAMPLING/JOIN-DELET NULL AND DUPLICATE.csv\",\n",
    "               header= 0,\n",
    "                        encoding= 'utf-8',error_bad_lines = False)\n",
    "print(df)"
   ]
  },
  {
   "cell_type": "code",
   "execution_count": 48,
   "id": "6409a34c",
   "metadata": {},
   "outputs": [
    {
     "data": {
      "text/plain": [
       "array(['TwitterTweetId', 'TwitterUserId', 'ScreenName', 'CreatedAt',\n",
       "       'Text', 'user2'], dtype=object)"
      ]
     },
     "execution_count": 48,
     "metadata": {},
     "output_type": "execute_result"
    }
   ],
   "source": [
    "df.columns.values"
   ]
  },
  {
   "cell_type": "code",
   "execution_count": 49,
   "id": "088d550f",
   "metadata": {},
   "outputs": [
    {
     "data": {
      "text/plain": [
       "292124"
      ]
     },
     "execution_count": 49,
     "metadata": {},
     "output_type": "execute_result"
    }
   ],
   "source": [
    "len(df.index)"
   ]
  },
  {
   "cell_type": "code",
   "execution_count": 22,
   "id": "6139b6e0",
   "metadata": {},
   "outputs": [
    {
     "data": {
      "text/html": [
       "<div>\n",
       "<style scoped>\n",
       "    .dataframe tbody tr th:only-of-type {\n",
       "        vertical-align: middle;\n",
       "    }\n",
       "\n",
       "    .dataframe tbody tr th {\n",
       "        vertical-align: top;\n",
       "    }\n",
       "\n",
       "    .dataframe thead th {\n",
       "        text-align: right;\n",
       "    }\n",
       "</style>\n",
       "<table border=\"1\" class=\"dataframe\">\n",
       "  <thead>\n",
       "    <tr style=\"text-align: right;\">\n",
       "      <th></th>\n",
       "      <th>TwitterTweetId</th>\n",
       "      <th>TwitterUserId</th>\n",
       "      <th>ScreenName</th>\n",
       "      <th>CreatedAt</th>\n",
       "      <th>Text</th>\n",
       "      <th>user2</th>\n",
       "    </tr>\n",
       "  </thead>\n",
       "  <tbody>\n",
       "    <tr>\n",
       "      <th>0</th>\n",
       "      <td>-9037574822283821054</td>\n",
       "      <td>-9223372036750186878</td>\n",
       "      <td>aalodah</td>\n",
       "      <td>2012-03-30 18:34:42.000</td>\n",
       "      <td>@aalodah فلايذر المطي بلاسنام.. ولم أر في عيوب...</td>\n",
       "      <td>aalodah</td>\n",
       "    </tr>\n",
       "    <tr>\n",
       "      <th>1</th>\n",
       "      <td>-9037574681715920895</td>\n",
       "      <td>-9223372036432970078</td>\n",
       "      <td>Sattamg</td>\n",
       "      <td>2012-03-30 18:35:16.000</td>\n",
       "      <td>@Alqudaimi ٣١- في المجتمع السعودي.وأن ١٠٪ من ه...</td>\n",
       "      <td>Sattamg</td>\n",
       "    </tr>\n",
       "    <tr>\n",
       "      <th>2</th>\n",
       "      <td>-9037574249241247743</td>\n",
       "      <td>-9223372036432970078</td>\n",
       "      <td>Sattamg</td>\n",
       "      <td>2012-03-30 18:36:59.000</td>\n",
       "      <td>@Alqudaimi ٣٢- ويصف القديمي ١٠٪ هذا بأنها مهمش...</td>\n",
       "      <td>Sattamg</td>\n",
       "    </tr>\n",
       "    <tr>\n",
       "      <th>3</th>\n",
       "      <td>-9037574084237311998</td>\n",
       "      <td>-9223372036432970078</td>\n",
       "      <td>Sattamg</td>\n",
       "      <td>2012-03-30 18:37:38.000</td>\n",
       "      <td>@Alqudaimi ٣٣-في (١١٠) وبضرب من شعوذة، ودجل؛ ن...</td>\n",
       "      <td>Sattamg</td>\n",
       "    </tr>\n",
       "    <tr>\n",
       "      <th>4</th>\n",
       "      <td>-9037573893740425215</td>\n",
       "      <td>-9223372036432970078</td>\n",
       "      <td>Sattamg</td>\n",
       "      <td>2012-03-30 18:38:23.000</td>\n",
       "      <td>@Alqudaimi ٣٤-أن تونس والاردن، ليبراليتان، لكن...</td>\n",
       "      <td>Sattamg</td>\n",
       "    </tr>\n",
       "  </tbody>\n",
       "</table>\n",
       "</div>"
      ],
      "text/plain": [
       "        TwitterTweetId        TwitterUserId ScreenName  \\\n",
       "0 -9037574822283821054 -9223372036750186878    aalodah   \n",
       "1 -9037574681715920895 -9223372036432970078    Sattamg   \n",
       "2 -9037574249241247743 -9223372036432970078    Sattamg   \n",
       "3 -9037574084237311998 -9223372036432970078    Sattamg   \n",
       "4 -9037573893740425215 -9223372036432970078    Sattamg   \n",
       "\n",
       "                 CreatedAt                                               Text  \\\n",
       "0  2012-03-30 18:34:42.000  @aalodah فلايذر المطي بلاسنام.. ولم أر في عيوب...   \n",
       "1  2012-03-30 18:35:16.000  @Alqudaimi ٣١- في المجتمع السعودي.وأن ١٠٪ من ه...   \n",
       "2  2012-03-30 18:36:59.000  @Alqudaimi ٣٢- ويصف القديمي ١٠٪ هذا بأنها مهمش...   \n",
       "3  2012-03-30 18:37:38.000  @Alqudaimi ٣٣-في (١١٠) وبضرب من شعوذة، ودجل؛ ن...   \n",
       "4  2012-03-30 18:38:23.000  @Alqudaimi ٣٤-أن تونس والاردن، ليبراليتان، لكن...   \n",
       "\n",
       "     user2  \n",
       "0  aalodah  \n",
       "1  Sattamg  \n",
       "2  Sattamg  \n",
       "3  Sattamg  \n",
       "4  Sattamg  "
      ]
     },
     "execution_count": 22,
     "metadata": {},
     "output_type": "execute_result"
    }
   ],
   "source": [
    "df.head()"
   ]
  },
  {
   "cell_type": "code",
   "execution_count": 45,
   "id": "5f2f2b24",
   "metadata": {},
   "outputs": [],
   "source": [
    "def data_cleaning (text):\n",
    "    # clean-up:\n",
    "    # remove qutoions \n",
    "    text = text.strip()\n",
    "\n",
    "    text= re.sub(r'http\\S+', '', text)\n",
    "    \n",
    "    text= re.sub(r'ي+','ي', text)\n",
    "    text = text.replace(\"آ\", \"ا\")\n",
    "    text = text.replace(\"إ\", \"ا\")\n",
    "    text = text.replace(\"أ\", \"ا\")\n",
    "    text = text.replace(\"ؤ\", \"و\")\n",
    "    text = text.replace(\"ئ\", \"ي\")\n",
    "\n",
    "\n",
    "    text= re.sub(r'[@|#]\\S*', '',text)\n",
    "    text= re.sub(r'\"+', '', text)\n",
    "    # Remove arabic signs\n",
    "    text= re.sub(r'([@A-Za-z0-9_ـــــــــــــ]+)|[^\\w\\s]|#|http\\S+', '', text)\n",
    "    punc = '''!()-[]{};:'\"\\,<>./?@#$%^&*_~'''\n",
    " \n",
    "   \n",
    "    \n",
    "\n",
    "    # Remove repeated letters like \"الللللللللللللللله\" to \"الله\"\n",
    "    text= text[0:2] + ''.join([text[i] for i in range(2, len(text)) if text[i]!=text[i-1] or text[i]!=text[i-2]])\n",
    "    text= re.sub(r'D',':D', text)\n",
    "    text= re.sub(r'هه+', 'face_with_tears_of_joy', text)\n",
    "    text= convert_emojis(text)\n",
    "    text= convert_emoticons(text)\n",
    "    text = give_emoji_free_text(text)\n",
    "\n",
    "     # Removing punctuations in string\n",
    "    text = text.translate(str.maketrans('', '', string.punctuation))\n",
    "    \n",
    "    text=re.sub(r'(?:^| )\\w(?:$| )', ' ', text)\n",
    "    text = re.sub(r\"$\\d+\\W+|\\b\\d+\\b|\\W+\\d+$\", \"\", text)\n",
    "    text = re.sub(\" \\d+\", \" \", text)\n",
    "    text = re.sub(\"(\\s\\d+)\",\"\",text)\n",
    "    text = re.sub(r'\\s+', ' ', text)\n",
    "    text = re.sub(\"(\\s\\d+)\",\"\",text) \n",
    "    # Returns: hi what is the weather like\n",
    "    \n",
    "\n",
    "    return text"
   ]
  },
  {
   "cell_type": "code",
   "execution_count": 50,
   "id": "9676ebd8",
   "metadata": {},
   "outputs": [
    {
     "name": "stdout",
     "output_type": "stream",
     "text": [
      "4207\n"
     ]
    },
    {
     "data": {
      "text/html": [
       "<div>\n",
       "<style scoped>\n",
       "    .dataframe tbody tr th:only-of-type {\n",
       "        vertical-align: middle;\n",
       "    }\n",
       "\n",
       "    .dataframe tbody tr th {\n",
       "        vertical-align: top;\n",
       "    }\n",
       "\n",
       "    .dataframe thead th {\n",
       "        text-align: right;\n",
       "    }\n",
       "</style>\n",
       "<table border=\"1\" class=\"dataframe\">\n",
       "  <thead>\n",
       "    <tr style=\"text-align: right;\">\n",
       "      <th></th>\n",
       "      <th>ScreenName</th>\n",
       "      <th>Text</th>\n",
       "    </tr>\n",
       "  </thead>\n",
       "  <tbody>\n",
       "    <tr>\n",
       "      <th>204667</th>\n",
       "      <td>qahtani_s1</td>\n",
       "      <td>@3ezz11 هههه هذه المرحلة الأولى ثم تتسع الدائرة</td>\n",
       "    </tr>\n",
       "    <tr>\n",
       "      <th>253792</th>\n",
       "      <td>AbuMohammedSun</td>\n",
       "      <td>RT @aalodah: #الحرية_لعبدالرحمن_السدحان الذي أ...</td>\n",
       "    </tr>\n",
       "    <tr>\n",
       "      <th>3687</th>\n",
       "      <td>fawaz177</td>\n",
       "      <td>أشراط الساعة ـ مقطع مؤثر \\nhttp://t.co/Go0p007...</td>\n",
       "    </tr>\n",
       "    <tr>\n",
       "      <th>234781</th>\n",
       "      <td>weed277</td>\n",
       "      <td>@aalodah @MohannaAlhubail آمين آمين ..</td>\n",
       "    </tr>\n",
       "    <tr>\n",
       "      <th>177100</th>\n",
       "      <td>abou_bakrs2</td>\n",
       "      <td>@MohannaAlhubail اللهم ارحمها وادخلها الجنة مع...</td>\n",
       "    </tr>\n",
       "  </tbody>\n",
       "</table>\n",
       "</div>"
      ],
      "text/plain": [
       "            ScreenName                                               Text\n",
       "204667      qahtani_s1    @3ezz11 هههه هذه المرحلة الأولى ثم تتسع الدائرة\n",
       "253792  AbuMohammedSun  RT @aalodah: #الحرية_لعبدالرحمن_السدحان الذي أ...\n",
       "3687          fawaz177  أشراط الساعة ـ مقطع مؤثر \\nhttp://t.co/Go0p007...\n",
       "234781         weed277             @aalodah @MohannaAlhubail آمين آمين ..\n",
       "177100     abou_bakrs2  @MohannaAlhubail اللهم ارحمها وادخلها الجنة مع..."
      ]
     },
     "execution_count": 50,
     "metadata": {},
     "output_type": "execute_result"
    }
   ],
   "source": [
    "df=df[['ScreenName', 'Text']]\n",
    "df = df.sample(frac=0.0144)\n",
    "print(len(df.index))\n",
    "df.head()"
   ]
  },
  {
   "cell_type": "code",
   "execution_count": 53,
   "id": "26f2cf06",
   "metadata": {},
   "outputs": [],
   "source": [
    "df.to_csv('C:/Users/Developer/Desktop/SAMPLING/final/sample_2' ,\n",
    "            index =False)"
   ]
  }
 ],
 "metadata": {
  "kernelspec": {
   "display_name": "Python 3 (ipykernel)",
   "language": "python",
   "name": "python3"
  },
  "language_info": {
   "codemirror_mode": {
    "name": "ipython",
    "version": 3
   },
   "file_extension": ".py",
   "mimetype": "text/x-python",
   "name": "python",
   "nbconvert_exporter": "python",
   "pygments_lexer": "ipython3",
   "version": "3.9.7"
  }
 },
 "nbformat": 4,
 "nbformat_minor": 5
}
